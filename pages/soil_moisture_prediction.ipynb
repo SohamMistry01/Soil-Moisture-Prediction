{
 "cells": [
  {
   "cell_type": "markdown",
   "metadata": {},
   "source": [
    "# Soil Moisture Prediction"
   ]
  },
  {
   "cell_type": "markdown",
   "metadata": {},
   "source": [
    "1. Importing Libraries"
   ]
  },
  {
   "cell_type": "code",
   "execution_count": 1,
   "metadata": {},
   "outputs": [],
   "source": [
    "import pandas as pd\n",
    "from sklearn.preprocessing import LabelEncoder\n",
    "from sklearn.model_selection import train_test_split, GridSearchCV\n",
    "import xgboost as xgb\n",
    "from sklearn.metrics import mean_squared_error, accuracy_score, r2_score, classification_report\n",
    "import warnings\n",
    "warnings.simplefilter('ignore')"
   ]
  },
  {
   "cell_type": "markdown",
   "metadata": {},
   "source": [
    "2. Importing dataset"
   ]
  },
  {
   "cell_type": "code",
   "execution_count": 2,
   "metadata": {},
   "outputs": [
    {
     "data": {
      "text/html": [
       "<div>\n",
       "<style scoped>\n",
       "    .dataframe tbody tr th:only-of-type {\n",
       "        vertical-align: middle;\n",
       "    }\n",
       "\n",
       "    .dataframe tbody tr th {\n",
       "        vertical-align: top;\n",
       "    }\n",
       "\n",
       "    .dataframe thead th {\n",
       "        text-align: right;\n",
       "    }\n",
       "</style>\n",
       "<table border=\"1\" class=\"dataframe\">\n",
       "  <thead>\n",
       "    <tr style=\"text-align: right;\">\n",
       "      <th></th>\n",
       "      <th>Date</th>\n",
       "      <th>Time</th>\n",
       "      <th>Temperature (°C)</th>\n",
       "      <th>Humidity (%)</th>\n",
       "      <th>Soil Moisture Morning (%)</th>\n",
       "      <th>Watering Done? (Y/N)</th>\n",
       "      <th>Soil Moisture After X hours (%)</th>\n",
       "      <th>Change in Moisture (%)</th>\n",
       "      <th>Watering Needed Later? (Y/N)</th>\n",
       "      <th>Time of Day</th>\n",
       "    </tr>\n",
       "  </thead>\n",
       "  <tbody>\n",
       "    <tr>\n",
       "      <th>0</th>\n",
       "      <td>2025-03-28T00:00:00.000000000</td>\n",
       "      <td>09:00</td>\n",
       "      <td>29.0</td>\n",
       "      <td>73.6</td>\n",
       "      <td>19.8</td>\n",
       "      <td>Yes</td>\n",
       "      <td>22.0</td>\n",
       "      <td>2.2</td>\n",
       "      <td>Yes</td>\n",
       "      <td>Late Morning</td>\n",
       "    </tr>\n",
       "    <tr>\n",
       "      <th>1</th>\n",
       "      <td>2025-03-31T00:00:00.000000000</td>\n",
       "      <td>08:00</td>\n",
       "      <td>30.0</td>\n",
       "      <td>55.1</td>\n",
       "      <td>35.0</td>\n",
       "      <td>Yes</td>\n",
       "      <td>42.0</td>\n",
       "      <td>7.0</td>\n",
       "      <td>No</td>\n",
       "      <td>Late Morning</td>\n",
       "    </tr>\n",
       "    <tr>\n",
       "      <th>2</th>\n",
       "      <td>2025-03-25T00:00:00.000000000</td>\n",
       "      <td>08:00</td>\n",
       "      <td>21.3</td>\n",
       "      <td>88.1</td>\n",
       "      <td>52.8</td>\n",
       "      <td>Yes</td>\n",
       "      <td>59.8</td>\n",
       "      <td>7.0</td>\n",
       "      <td>No</td>\n",
       "      <td>Late Morning</td>\n",
       "    </tr>\n",
       "    <tr>\n",
       "      <th>3</th>\n",
       "      <td>2025-04-02T00:00:00.000000000</td>\n",
       "      <td>06:00</td>\n",
       "      <td>22.5</td>\n",
       "      <td>63.7</td>\n",
       "      <td>43.2</td>\n",
       "      <td>Yes</td>\n",
       "      <td>53.8</td>\n",
       "      <td>10.6</td>\n",
       "      <td>No</td>\n",
       "      <td>Early Morning</td>\n",
       "    </tr>\n",
       "    <tr>\n",
       "      <th>4</th>\n",
       "      <td>2025-04-01T00:00:00.000000000</td>\n",
       "      <td>06:00</td>\n",
       "      <td>20.4</td>\n",
       "      <td>75.7</td>\n",
       "      <td>38.9</td>\n",
       "      <td>Yes</td>\n",
       "      <td>46.3</td>\n",
       "      <td>7.4</td>\n",
       "      <td>No</td>\n",
       "      <td>Early Morning</td>\n",
       "    </tr>\n",
       "  </tbody>\n",
       "</table>\n",
       "</div>"
      ],
      "text/plain": [
       "                            Date   Time  Temperature (°C)  Humidity (%)  \\\n",
       "0  2025-03-28T00:00:00.000000000  09:00              29.0          73.6   \n",
       "1  2025-03-31T00:00:00.000000000  08:00              30.0          55.1   \n",
       "2  2025-03-25T00:00:00.000000000  08:00              21.3          88.1   \n",
       "3  2025-04-02T00:00:00.000000000  06:00              22.5          63.7   \n",
       "4  2025-04-01T00:00:00.000000000  06:00              20.4          75.7   \n",
       "\n",
       "   Soil Moisture Morning (%) Watering Done? (Y/N)  \\\n",
       "0                       19.8                  Yes   \n",
       "1                       35.0                  Yes   \n",
       "2                       52.8                  Yes   \n",
       "3                       43.2                  Yes   \n",
       "4                       38.9                  Yes   \n",
       "\n",
       "   Soil Moisture After X hours (%)  Change in Moisture (%)  \\\n",
       "0                             22.0                     2.2   \n",
       "1                             42.0                     7.0   \n",
       "2                             59.8                     7.0   \n",
       "3                             53.8                    10.6   \n",
       "4                             46.3                     7.4   \n",
       "\n",
       "  Watering Needed Later? (Y/N)    Time of Day  \n",
       "0                          Yes   Late Morning  \n",
       "1                           No   Late Morning  \n",
       "2                           No   Late Morning  \n",
       "3                           No  Early Morning  \n",
       "4                           No  Early Morning  "
      ]
     },
     "execution_count": 2,
     "metadata": {},
     "output_type": "execute_result"
    }
   ],
   "source": [
    "df = pd.read_csv('updated_sample_soil_moisture_data.csv')\n",
    "df.head()"
   ]
  },
  {
   "cell_type": "markdown",
   "metadata": {},
   "source": [
    "3. Select Input & Output Features"
   ]
  },
  {
   "cell_type": "code",
   "execution_count": 4,
   "metadata": {},
   "outputs": [],
   "source": [
    "# Select input features and target variables\n",
    "input_features = [\n",
    "    \"Temperature (°C)\", \"Humidity (%)\", \"Soil Moisture Morning (%)\", \n",
    "    \"Watering Done? (Y/N)\", \"Time of Day\"\n",
    "]\n",
    "regression_target = \"Soil Moisture After X hours (%)\"\n",
    "classification_target = \"Watering Needed Later? (Y/N)\"\n",
    "\n",
    "# Extract relevant columns\n",
    "data = df[input_features]\n",
    "target_regression = df[regression_target]\n",
    "target_classification = df[classification_target]"
   ]
  },
  {
   "cell_type": "markdown",
   "metadata": {},
   "source": [
    "4. Apply Label Encoding on categorical variables"
   ]
  },
  {
   "cell_type": "code",
   "execution_count": 5,
   "metadata": {},
   "outputs": [],
   "source": [
    "# Encode categorical features\n",
    "label_encoder = LabelEncoder()\n",
    "data[\"Watering Done? (Y/N)\"] = label_encoder.fit_transform(data[\"Watering Done? (Y/N)\"])\n",
    "data[\"Time of Day\"] = label_encoder.fit_transform(data[\"Time of Day\"])\n",
    "target_classification = label_encoder.fit_transform(target_classification)"
   ]
  },
  {
   "cell_type": "markdown",
   "metadata": {},
   "source": [
    "5. Apply Train Test Split separately for regression and classification data"
   ]
  },
  {
   "cell_type": "code",
   "execution_count": 6,
   "metadata": {},
   "outputs": [],
   "source": [
    "# Split data into training and testing sets\n",
    "X_train, X_test, y_train_reg, y_test_reg = train_test_split(\n",
    "    data, target_regression, test_size=0.2, random_state=42\n",
    ")\n",
    "X_train_cls, X_test_cls, y_train_cls, y_test_cls = train_test_split(\n",
    "    data, target_classification, test_size=0.2, random_state=42\n",
    ")"
   ]
  },
  {
   "cell_type": "markdown",
   "metadata": {},
   "source": [
    "6. Apply XGBoost Regressor & Evaluate it"
   ]
  },
  {
   "cell_type": "code",
   "execution_count": 70,
   "metadata": {},
   "outputs": [
    {
     "name": "stderr",
     "output_type": "stream",
     "text": [
      "[I 2025-04-03 15:36:52,749] A new study created in memory with name: no-name-d8998ce4-5f9f-4a0c-b1df-0a3f09e1e3f8\n",
      "[I 2025-04-03 15:36:53,616] Trial 0 finished with value: -5.64821623098933 and parameters: {'max_depth': 4, 'learning_rate': 0.027359128317266102, 'n_estimators': 447, 'subsample': 0.8290587266122924, 'colsample_bytree': 0.9202267306109136, 'gamma': 0.11698387804837834}. Best is trial 0 with value: -5.64821623098933.\n",
      "[I 2025-04-03 15:36:54,254] Trial 1 finished with value: -11.02310030929764 and parameters: {'max_depth': 5, 'learning_rate': 0.016085810579138077, 'n_estimators': 179, 'subsample': 0.8939646109806889, 'colsample_bytree': 0.9546084396930716, 'gamma': 0.1591110761477581}. Best is trial 0 with value: -5.64821623098933.\n",
      "[I 2025-04-03 15:36:54,877] Trial 2 finished with value: -6.233233207470952 and parameters: {'max_depth': 3, 'learning_rate': 0.14581145586541394, 'n_estimators': 350, 'subsample': 0.939335256035885, 'colsample_bytree': 0.9156345632337634, 'gamma': 0.11146907645444655}. Best is trial 0 with value: -5.64821623098933.\n",
      "[I 2025-04-03 15:36:55,509] Trial 3 finished with value: -12.31313940465256 and parameters: {'max_depth': 7, 'learning_rate': 0.02297039766047775, 'n_estimators': 133, 'subsample': 0.7043396098038432, 'colsample_bytree': 0.9388421758633541, 'gamma': 0.10949110478223244}. Best is trial 0 with value: -5.64821623098933.\n",
      "[I 2025-04-03 15:36:57,282] Trial 4 finished with value: -20.914175796186424 and parameters: {'max_depth': 8, 'learning_rate': 0.008006307929082192, 'n_estimators': 301, 'subsample': 0.9794658421804185, 'colsample_bytree': 0.9233543631351264, 'gamma': 0.009932287250206251}. Best is trial 0 with value: -5.64821623098933.\n",
      "[I 2025-04-03 15:36:58,380] Trial 5 finished with value: -15.39948683236885 and parameters: {'max_depth': 8, 'learning_rate': 0.14722244973611934, 'n_estimators': 500, 'subsample': 0.7462925197787014, 'colsample_bytree': 0.763422491160656, 'gamma': 0.006419549968101613}. Best is trial 0 with value: -5.64821623098933.\n",
      "[I 2025-04-03 15:36:59,380] Trial 6 finished with value: -6.22397509281956 and parameters: {'max_depth': 4, 'learning_rate': 0.05698534740597648, 'n_estimators': 398, 'subsample': 0.7405800390211273, 'colsample_bytree': 0.8814875758838208, 'gamma': 0.08309007880041959}. Best is trial 0 with value: -5.64821623098933.\n",
      "[I 2025-04-03 15:37:00,301] Trial 7 finished with value: -13.235062238747972 and parameters: {'max_depth': 9, 'learning_rate': 0.127306845363512, 'n_estimators': 385, 'subsample': 0.8808899072154716, 'colsample_bytree': 0.8810656102669425, 'gamma': 0.0034051155522492496}. Best is trial 0 with value: -5.64821623098933.\n",
      "[I 2025-04-03 15:37:01,852] Trial 8 finished with value: -24.41626970743046 and parameters: {'max_depth': 7, 'learning_rate': 0.005654342993816742, 'n_estimators': 371, 'subsample': 0.720901446519875, 'colsample_bytree': 0.8081621170566319, 'gamma': 0.14693643080764715}. Best is trial 0 with value: -5.64821623098933.\n",
      "[I 2025-04-03 15:37:02,608] Trial 9 finished with value: -7.668330868487644 and parameters: {'max_depth': 5, 'learning_rate': 0.02340307204643171, 'n_estimators': 376, 'subsample': 0.9043900802136581, 'colsample_bytree': 0.7044228005638117, 'gamma': 0.051887847863869865}. Best is trial 0 with value: -5.64821623098933.\n",
      "[I 2025-04-03 15:37:03,277] Trial 10 finished with value: -5.893454464364436 and parameters: {'max_depth': 3, 'learning_rate': 0.06692344078021974, 'n_estimators': 495, 'subsample': 0.8051000406614552, 'colsample_bytree': 0.9773406188968596, 'gamma': 0.18276531634161272}. Best is trial 0 with value: -5.64821623098933.\n",
      "[I 2025-04-03 15:37:03,950] Trial 11 finished with value: -5.761063183777555 and parameters: {'max_depth': 3, 'learning_rate': 0.055601431528281384, 'n_estimators': 500, 'subsample': 0.8050098927488355, 'colsample_bytree': 0.9872920147865283, 'gamma': 0.18115388200644877}. Best is trial 0 with value: -5.64821623098933.\n",
      "[I 2025-04-03 15:37:04,920] Trial 12 finished with value: -6.717655332250143 and parameters: {'max_depth': 5, 'learning_rate': 0.049004520951902004, 'n_estimators': 448, 'subsample': 0.8176789040725518, 'colsample_bytree': 0.9895383188388879, 'gamma': 0.19640100480667805}. Best is trial 0 with value: -5.64821623098933.\n",
      "[I 2025-04-03 15:37:05,288] Trial 13 finished with value: -5.23290094829247 and parameters: {'max_depth': 3, 'learning_rate': 0.03612007126523364, 'n_estimators': 225, 'subsample': 0.8091473646369262, 'colsample_bytree': 0.9995014741352274, 'gamma': 0.14522574620883544}. Best is trial 13 with value: -5.23290094829247.\n",
      "[I 2025-04-03 15:37:05,746] Trial 14 finished with value: -11.435520765433958 and parameters: {'max_depth': 4, 'learning_rate': 0.011939837970529513, 'n_estimators': 230, 'subsample': 0.8425897043641458, 'colsample_bytree': 0.8321488069639532, 'gamma': 0.12971159591845066}. Best is trial 13 with value: -5.23290094829247.\n",
      "[I 2025-04-03 15:37:06,547] Trial 15 finished with value: -6.948837588306655 and parameters: {'max_depth': 6, 'learning_rate': 0.03338464397305675, 'n_estimators': 265, 'subsample': 0.7730474907501257, 'colsample_bytree': 0.8882730086288851, 'gamma': 0.07762880788224333}. Best is trial 13 with value: -5.23290094829247.\n",
      "[I 2025-04-03 15:37:07,001] Trial 16 finished with value: -5.595840572414152 and parameters: {'max_depth': 4, 'learning_rate': 0.03180227253396921, 'n_estimators': 228, 'subsample': 0.855355567223419, 'colsample_bytree': 0.9554429069500436, 'gamma': 0.13929877459677614}. Best is trial 13 with value: -5.23290094829247.\n",
      "[I 2025-04-03 15:37:08,508] Trial 17 finished with value: -14.960378066285644 and parameters: {'max_depth': 10, 'learning_rate': 0.01599701174347083, 'n_estimators': 199, 'subsample': 0.8729721276471473, 'colsample_bytree': 0.9958468580824976, 'gamma': 0.1509529023162516}. Best is trial 13 with value: -5.23290094829247.\n",
      "[I 2025-04-03 15:37:08,911] Trial 18 finished with value: -8.353756590492337 and parameters: {'max_depth': 6, 'learning_rate': 0.09297196363202172, 'n_estimators': 109, 'subsample': 0.9316672935577892, 'colsample_bytree': 0.958237164247267, 'gamma': 0.14194309032618702}. Best is trial 13 with value: -5.23290094829247.\n",
      "[I 2025-04-03 15:37:09,486] Trial 19 finished with value: -5.6230598430664935 and parameters: {'max_depth': 4, 'learning_rate': 0.03779119663991082, 'n_estimators': 310, 'subsample': 0.7745160677756329, 'colsample_bytree': 0.8497591802258733, 'gamma': 0.16269023838834817}. Best is trial 13 with value: -5.23290094829247.\n",
      "[I 2025-04-03 15:37:09,884] Trial 20 finished with value: -6.432277006626324 and parameters: {'max_depth': 3, 'learning_rate': 0.016159248100288563, 'n_estimators': 252, 'subsample': 0.8571263166281791, 'colsample_bytree': 0.9613650033994247, 'gamma': 0.08575996626186091}. Best is trial 13 with value: -5.23290094829247.\n",
      "[I 2025-04-03 15:37:10,420] Trial 21 finished with value: -6.093126565230908 and parameters: {'max_depth': 4, 'learning_rate': 0.03732638767175747, 'n_estimators': 305, 'subsample': 0.773496120357746, 'colsample_bytree': 0.7973324204445378, 'gamma': 0.17067519973276182}. Best is trial 13 with value: -5.23290094829247.\n",
      "[I 2025-04-03 15:37:10,888] Trial 22 finished with value: -6.268974366809286 and parameters: {'max_depth': 5, 'learning_rate': 0.04145160390390365, 'n_estimators': 184, 'subsample': 0.7884517547255553, 'colsample_bytree': 0.8602885021959207, 'gamma': 0.13324308526145823}. Best is trial 13 with value: -5.23290094829247.\n",
      "[I 2025-04-03 15:37:11,485] Trial 23 finished with value: -6.203195435569955 and parameters: {'max_depth': 4, 'learning_rate': 0.07535300228755608, 'n_estimators': 328, 'subsample': 0.7615799063621996, 'colsample_bytree': 0.8421768891048146, 'gamma': 0.16221397748760413}. Best is trial 13 with value: -5.23290094829247.\n",
      "[I 2025-04-03 15:37:11,858] Trial 24 finished with value: -5.287279426226671 and parameters: {'max_depth': 3, 'learning_rate': 0.030027961987030078, 'n_estimators': 222, 'subsample': 0.8466796148359178, 'colsample_bytree': 0.8025847161484736, 'gamma': 0.12419486202694671}. Best is trial 13 with value: -5.23290094829247.\n",
      "[I 2025-04-03 15:37:12,231] Trial 25 finished with value: -8.015451868807604 and parameters: {'max_depth': 3, 'learning_rate': 0.02065914799130928, 'n_estimators': 221, 'subsample': 0.8511828858534303, 'colsample_bytree': 0.7684657514341285, 'gamma': 0.1268817497364683}. Best is trial 13 with value: -5.23290094829247.\n",
      "[I 2025-04-03 15:37:12,543] Trial 26 finished with value: -64.84925958838157 and parameters: {'max_depth': 3, 'learning_rate': 0.010843507945392567, 'n_estimators': 143, 'subsample': 0.9189188820342806, 'colsample_bytree': 0.7300376808122092, 'gamma': 0.09901059121381445}. Best is trial 13 with value: -5.23290094829247.\n",
      "[I 2025-04-03 15:37:12,963] Trial 27 finished with value: -5.214938874657531 and parameters: {'max_depth': 3, 'learning_rate': 0.028705392924535948, 'n_estimators': 265, 'subsample': 0.8334191196059558, 'colsample_bytree': 0.8105159548695258, 'gamma': 0.06461202643750005}. Best is trial 27 with value: -5.214938874657531.\n",
      "[I 2025-04-03 15:37:13,364] Trial 28 finished with value: -5.204442077765413 and parameters: {'max_depth': 3, 'learning_rate': 0.02701144248087639, 'n_estimators': 248, 'subsample': 0.8243875262539391, 'colsample_bytree': 0.8035699318005508, 'gamma': 0.055618500593052234}. Best is trial 28 with value: -5.204442077765413.\n",
      "[I 2025-04-03 15:37:13,980] Trial 29 finished with value: -8.181707754116212 and parameters: {'max_depth': 5, 'learning_rate': 0.02579920172399744, 'n_estimators': 269, 'subsample': 0.8179396078060902, 'colsample_bytree': 0.7731733471323219, 'gamma': 0.04592814591886628}. Best is trial 28 with value: -5.204442077765413.\n",
      "[I 2025-04-03 15:37:14,410] Trial 30 finished with value: -5.83241578248598 and parameters: {'max_depth': 3, 'learning_rate': 0.09823606400364641, 'n_estimators': 278, 'subsample': 0.827834155392977, 'colsample_bytree': 0.8214351542330273, 'gamma': 0.05318568883443618}. Best is trial 28 with value: -5.204442077765413.\n",
      "[I 2025-04-03 15:37:14,742] Trial 31 finished with value: -6.161092214374984 and parameters: {'max_depth': 3, 'learning_rate': 0.028700033711179827, 'n_estimators': 202, 'subsample': 0.7976168446769136, 'colsample_bytree': 0.7917373892508994, 'gamma': 0.03149783211969267}. Best is trial 28 with value: -5.204442077765413.\n",
      "[I 2025-04-03 15:37:15,078] Trial 32 finished with value: -16.982764291796403 and parameters: {'max_depth': 4, 'learning_rate': 0.019880239865257603, 'n_estimators': 160, 'subsample': 0.8295155525355127, 'colsample_bytree': 0.7382949787054379, 'gamma': 0.0637178823230606}. Best is trial 28 with value: -5.204442077765413.\n",
      "[I 2025-04-03 15:37:15,475] Trial 33 finished with value: -5.409667119094691 and parameters: {'max_depth': 3, 'learning_rate': 0.046882418460805965, 'n_estimators': 247, 'subsample': 0.8748626308878958, 'colsample_bytree': 0.8118719188714489, 'gamma': 0.09525584252362326}. Best is trial 28 with value: -5.204442077765413.\n",
      "[I 2025-04-03 15:37:15,782] Trial 34 finished with value: -17.540740789234516 and parameters: {'max_depth': 3, 'learning_rate': 0.017513850943799234, 'n_estimators': 172, 'subsample': 0.8357548067836823, 'colsample_bytree': 0.7873310964173835, 'gamma': 0.031429452229273916}. Best is trial 28 with value: -5.204442077765413.\n",
      "[I 2025-04-03 15:37:16,645] Trial 35 finished with value: -9.795312267723334 and parameters: {'max_depth': 6, 'learning_rate': 0.029547945209051782, 'n_estimators': 279, 'subsample': 0.893352050947866, 'colsample_bytree': 0.7465667515760691, 'gamma': 0.11866116953038246}. Best is trial 28 with value: -5.204442077765413.\n",
      "[I 2025-04-03 15:37:17,259] Trial 36 finished with value: -13.394921970581663 and parameters: {'max_depth': 5, 'learning_rate': 0.012694444352802363, 'n_estimators': 205, 'subsample': 0.8587393956402781, 'colsample_bytree': 0.8263954954713546, 'gamma': 0.06993583226529615}. Best is trial 28 with value: -5.204442077765413.\n",
      "[I 2025-04-03 15:37:17,880] Trial 37 finished with value: -5.485383874616701 and parameters: {'max_depth': 4, 'learning_rate': 0.024961824676773346, 'n_estimators': 339, 'subsample': 0.8146791205614952, 'colsample_bytree': 0.915588120483926, 'gamma': 0.11084213271296259}. Best is trial 28 with value: -5.204442077765413.\n",
      "[I 2025-04-03 15:37:18,357] Trial 38 finished with value: -5.741397175988066 and parameters: {'max_depth': 4, 'learning_rate': 0.04177689664394348, 'n_estimators': 246, 'subsample': 0.9727553137468103, 'colsample_bytree': 0.8702871568775293, 'gamma': 0.026947032863150283}. Best is trial 28 with value: -5.204442077765413.\n",
      "[I 2025-04-03 15:37:18,713] Trial 39 finished with value: -6.087592196260093 and parameters: {'max_depth': 3, 'learning_rate': 0.18751870809056026, 'n_estimators': 220, 'subsample': 0.792731700700746, 'colsample_bytree': 0.8992076415638371, 'gamma': 0.019271463198050592}. Best is trial 28 with value: -5.204442077765413.\n",
      "[I 2025-04-03 15:37:19,224] Trial 40 finished with value: -24.802235477416232 and parameters: {'max_depth': 4, 'learning_rate': 0.009060584241512355, 'n_estimators': 289, 'subsample': 0.7470981735840989, 'colsample_bytree': 0.784919729122337, 'gamma': 0.09110883575782909}. Best is trial 28 with value: -5.204442077765413.\n",
      "[I 2025-04-03 15:37:19,621] Trial 41 finished with value: -5.3535830762815335 and parameters: {'max_depth': 3, 'learning_rate': 0.051443080861971885, 'n_estimators': 255, 'subsample': 0.8769208106571674, 'colsample_bytree': 0.8128013990450437, 'gamma': 0.1009014644631244}. Best is trial 28 with value: -5.204442077765413.\n",
      "[I 2025-04-03 15:37:20,018] Trial 42 finished with value: -5.424222067301266 and parameters: {'max_depth': 3, 'learning_rate': 0.06293430096380474, 'n_estimators': 251, 'subsample': 0.9010835421111628, 'colsample_bytree': 0.8060832989083768, 'gamma': 0.10801143902799026}. Best is trial 28 with value: -5.204442077765413.\n",
      "[I 2025-04-03 15:37:21,019] Trial 43 finished with value: -9.020283127950103 and parameters: {'max_depth': 8, 'learning_rate': 0.050416172820743455, 'n_estimators': 322, 'subsample': 0.8711181684587084, 'colsample_bytree': 0.8396773861823525, 'gamma': 0.12269879895802943}. Best is trial 28 with value: -5.204442077765413.\n",
      "[I 2025-04-03 15:37:21,792] Trial 44 finished with value: -5.940758624115706 and parameters: {'max_depth': 3, 'learning_rate': 0.03253222950507514, 'n_estimators': 187, 'subsample': 0.8370147990566909, 'colsample_bytree': 0.7575586867580344, 'gamma': 0.06929925538403064}. Best is trial 28 with value: -5.204442077765413.\n",
      "[I 2025-04-03 15:37:22,203] Trial 45 finished with value: -5.873112307191696 and parameters: {'max_depth': 3, 'learning_rate': 0.01930937490419117, 'n_estimators': 236, 'subsample': 0.882962023489457, 'colsample_bytree': 0.8178639671455192, 'gamma': 0.10460052999393586}. Best is trial 28 with value: -5.204442077765413.\n",
      "[I 2025-04-03 15:37:22,712] Trial 46 finished with value: -6.468483502045579 and parameters: {'max_depth': 4, 'learning_rate': 0.08214345545413643, 'n_estimators': 286, 'subsample': 0.8194121455276735, 'colsample_bytree': 0.7793244475728769, 'gamma': 0.060751151174559294}. Best is trial 28 with value: -5.204442077765413.\n",
      "[I 2025-04-03 15:37:23,232] Trial 47 finished with value: -5.221946070806874 and parameters: {'max_depth': 3, 'learning_rate': 0.022774334946750203, 'n_estimators': 357, 'subsample': 0.8447311630672354, 'colsample_bytree': 0.8577830702230353, 'gamma': 0.04355647463489266}. Best is trial 28 with value: -5.204442077765413.\n",
      "[I 2025-04-03 15:37:24,046] Trial 48 finished with value: -6.231583518684843 and parameters: {'max_depth': 5, 'learning_rate': 0.022388961970566078, 'n_estimators': 359, 'subsample': 0.8431308531146235, 'colsample_bytree': 0.926507741793052, 'gamma': 0.04270627097609536}. Best is trial 28 with value: -5.204442077765413.\n",
      "[I 2025-04-03 15:37:26,716] Trial 49 finished with value: -16.4317420613496 and parameters: {'max_depth': 9, 'learning_rate': 0.026172472424987322, 'n_estimators': 433, 'subsample': 0.8011154617532474, 'colsample_bytree': 0.7118947270530893, 'gamma': 0.03844237065868039}. Best is trial 28 with value: -5.204442077765413.\n"
     ]
    },
    {
     "name": "stdout",
     "output_type": "stream",
     "text": [
      "Best hyperparameters: {'max_depth': 3, 'learning_rate': 0.02701144248087639, 'n_estimators': 248, 'subsample': 0.8243875262539391, 'colsample_bytree': 0.8035699318005508, 'gamma': 0.055618500593052234}\n"
     ]
    }
   ],
   "source": [
    "import optuna\n",
    "from optuna import Trial\n",
    "from xgboost import XGBRegressor\n",
    "from sklearn.model_selection import cross_val_score\n",
    "\n",
    "def objective(trial):\n",
    "    params = {\n",
    "        \"max_depth\": trial.suggest_int(\"max_depth\", 3, 10),\n",
    "        \"learning_rate\": trial.suggest_loguniform(\"learning_rate\", 0.005, 0.2),\n",
    "        \"n_estimators\": trial.suggest_int(\"n_estimators\", 100, 500),\n",
    "        \"subsample\": trial.suggest_uniform(\"subsample\", 0.7, 1.0),\n",
    "        \"colsample_bytree\": trial.suggest_uniform(\"colsample_bytree\", 0.7, 1.0),\n",
    "        \"gamma\": trial.suggest_uniform(\"gamma\", 0, 0.2),\n",
    "    }\n",
    "    \n",
    "    model = XGBRegressor(objective=\"reg:squarederror\", **params)\n",
    "    score = cross_val_score(model, X_train, y_train_reg, cv=3, scoring=\"neg_mean_squared_error\").mean()\n",
    "    return score\n",
    "\n",
    "study = optuna.create_study(direction=\"maximize\")\n",
    "study.optimize(objective, n_trials=50)\n",
    "\n",
    "print(\"Best hyperparameters:\", study.best_params)"
   ]
  },
  {
   "cell_type": "code",
   "execution_count": 71,
   "metadata": {},
   "outputs": [
    {
     "name": "stdout",
     "output_type": "stream",
     "text": [
      "Optimized Model R² Score: 0.9878\n"
     ]
    }
   ],
   "source": [
    "# Define the optimized model\n",
    "optimized_model = xgb.XGBRegressor(\n",
    "    objective=\"reg:squarederror\",\n",
    "    max_depth=3,\n",
    "    learning_rate=0.02701144248087639,\n",
    "    n_estimators=248,\n",
    "    subsample=0.8243875262539391,\n",
    "    colsample_bytree=0.8035699318005508,\n",
    "    gamma=0.055618500593052234\n",
    ")\n",
    "\n",
    "# Train the model\n",
    "optimized_model.fit(X_train, y_train_reg)\n",
    "\n",
    "# Predict on the test set\n",
    "y_pred = optimized_model.predict(X_test)\n",
    "\n",
    "# Evaluate performance using R² Score\n",
    "r2 = r2_score(y_test_reg, y_pred)\n",
    "print(f\"Optimized Model R² Score: {r2:.4f}\")"
   ]
  },
  {
   "cell_type": "code",
   "execution_count": 74,
   "metadata": {},
   "outputs": [
    {
     "name": "stderr",
     "output_type": "stream",
     "text": [
      "[I 2025-04-03 15:43:07,594] A new study created in memory with name: no-name-9bbfea9e-51b5-4642-bb4b-39430f23f0cd\n",
      "[I 2025-04-03 15:43:10,426] Trial 0 finished with value: 0.981793569686834 and parameters: {'n_estimators': 301, 'max_depth': 7, 'min_samples_split': 10, 'min_samples_leaf': 5}. Best is trial 0 with value: 0.981793569686834.\n",
      "[I 2025-04-03 15:43:14,344] Trial 1 finished with value: 0.9820351973121711 and parameters: {'n_estimators': 354, 'max_depth': 20, 'min_samples_split': 4, 'min_samples_leaf': 3}. Best is trial 1 with value: 0.9820351973121711.\n",
      "[I 2025-04-03 15:43:16,731] Trial 2 finished with value: 0.9822789896490532 and parameters: {'n_estimators': 247, 'max_depth': 20, 'min_samples_split': 7, 'min_samples_leaf': 2}. Best is trial 2 with value: 0.9822789896490532.\n",
      "[I 2025-04-03 15:43:20,287] Trial 3 finished with value: 0.9822107998359089 and parameters: {'n_estimators': 415, 'max_depth': 19, 'min_samples_split': 2, 'min_samples_leaf': 2}. Best is trial 2 with value: 0.9822789896490532.\n",
      "[I 2025-04-03 15:43:21,441] Trial 4 finished with value: 0.9822121043213747 and parameters: {'n_estimators': 143, 'max_depth': 15, 'min_samples_split': 10, 'min_samples_leaf': 2}. Best is trial 2 with value: 0.9822789896490532.\n",
      "[I 2025-04-03 15:43:25,293] Trial 5 finished with value: 0.9823552005405268 and parameters: {'n_estimators': 449, 'max_depth': 9, 'min_samples_split': 8, 'min_samples_leaf': 1}. Best is trial 5 with value: 0.9823552005405268.\n",
      "[I 2025-04-03 15:43:28,310] Trial 6 finished with value: 0.9822174640889813 and parameters: {'n_estimators': 361, 'max_depth': 17, 'min_samples_split': 6, 'min_samples_leaf': 1}. Best is trial 5 with value: 0.9823552005405268.\n",
      "[I 2025-04-03 15:43:30,016] Trial 7 finished with value: 0.982351018273405 and parameters: {'n_estimators': 200, 'max_depth': 7, 'min_samples_split': 9, 'min_samples_leaf': 2}. Best is trial 5 with value: 0.9823552005405268.\n",
      "[I 2025-04-03 15:43:33,093] Trial 8 finished with value: 0.9820310752465126 and parameters: {'n_estimators': 373, 'max_depth': 20, 'min_samples_split': 10, 'min_samples_leaf': 4}. Best is trial 5 with value: 0.9823552005405268.\n",
      "[I 2025-04-03 15:43:34,919] Trial 9 finished with value: 0.9819782033230875 and parameters: {'n_estimators': 173, 'max_depth': 16, 'min_samples_split': 4, 'min_samples_leaf': 1}. Best is trial 5 with value: 0.9823552005405268.\n",
      "[I 2025-04-03 15:43:38,949] Trial 10 finished with value: 0.9819654662898244 and parameters: {'n_estimators': 495, 'max_depth': 11, 'min_samples_split': 7, 'min_samples_leaf': 4}. Best is trial 5 with value: 0.9823552005405268.\n",
      "[I 2025-04-03 15:43:40,915] Trial 11 finished with value: 0.9816548327696618 and parameters: {'n_estimators': 238, 'max_depth': 5, 'min_samples_split': 8, 'min_samples_leaf': 1}. Best is trial 5 with value: 0.9823552005405268.\n",
      "[I 2025-04-03 15:43:44,873] Trial 12 finished with value: 0.9824371013979335 and parameters: {'n_estimators': 499, 'max_depth': 10, 'min_samples_split': 8, 'min_samples_leaf': 2}. Best is trial 12 with value: 0.9824371013979335.\n",
      "[I 2025-04-03 15:43:48,717] Trial 13 finished with value: 0.9822044681090611 and parameters: {'n_estimators': 489, 'max_depth': 11, 'min_samples_split': 8, 'min_samples_leaf': 3}. Best is trial 12 with value: 0.9824371013979335.\n",
      "[I 2025-04-03 15:43:52,365] Trial 14 finished with value: 0.9822603355360844 and parameters: {'n_estimators': 435, 'max_depth': 9, 'min_samples_split': 5, 'min_samples_leaf': 1}. Best is trial 12 with value: 0.9824371013979335.\n",
      "[I 2025-04-03 15:43:55,980] Trial 15 finished with value: 0.982393677146168 and parameters: {'n_estimators': 445, 'max_depth': 13, 'min_samples_split': 8, 'min_samples_leaf': 2}. Best is trial 12 with value: 0.9824371013979335.\n",
      "[I 2025-04-03 15:43:59,330] Trial 16 finished with value: 0.9820601461786125 and parameters: {'n_estimators': 403, 'max_depth': 13, 'min_samples_split': 6, 'min_samples_leaf': 3}. Best is trial 12 with value: 0.9824371013979335.\n",
      "[I 2025-04-03 15:44:02,026] Trial 17 finished with value: 0.9823253593457246 and parameters: {'n_estimators': 303, 'max_depth': 13, 'min_samples_split': 9, 'min_samples_leaf': 2}. Best is trial 12 with value: 0.9824371013979335.\n",
      "[I 2025-04-03 15:44:05,703] Trial 18 finished with value: 0.9819578673344326 and parameters: {'n_estimators': 459, 'max_depth': 11, 'min_samples_split': 7, 'min_samples_leaf': 4}. Best is trial 12 with value: 0.9824371013979335.\n",
      "[I 2025-04-03 15:44:06,603] Trial 19 finished with value: 0.9821193715052597 and parameters: {'n_estimators': 106, 'max_depth': 14, 'min_samples_split': 9, 'min_samples_leaf': 3}. Best is trial 12 with value: 0.9824371013979335.\n",
      "[I 2025-04-03 15:44:10,572] Trial 20 finished with value: 0.9823194147266944 and parameters: {'n_estimators': 496, 'max_depth': 9, 'min_samples_split': 5, 'min_samples_leaf': 2}. Best is trial 12 with value: 0.9824371013979335.\n",
      "[I 2025-04-03 15:44:14,202] Trial 21 finished with value: 0.9823377908794333 and parameters: {'n_estimators': 452, 'max_depth': 10, 'min_samples_split': 8, 'min_samples_leaf': 1}. Best is trial 12 with value: 0.9824371013979335.\n",
      "[I 2025-04-03 15:44:17,861] Trial 22 finished with value: 0.9824391417361019 and parameters: {'n_estimators': 458, 'max_depth': 8, 'min_samples_split': 8, 'min_samples_leaf': 2}. Best is trial 22 with value: 0.9824391417361019.\n",
      "[I 2025-04-03 15:44:20,870] Trial 23 finished with value: 0.9817895628579351 and parameters: {'n_estimators': 385, 'max_depth': 5, 'min_samples_split': 7, 'min_samples_leaf': 2}. Best is trial 22 with value: 0.9824391417361019.\n",
      "[I 2025-04-03 15:44:23,938] Trial 24 finished with value: 0.9822036877142235 and parameters: {'n_estimators': 334, 'max_depth': 7, 'min_samples_split': 9, 'min_samples_leaf': 3}. Best is trial 22 with value: 0.9824391417361019.\n",
      "[I 2025-04-03 15:44:27,738] Trial 25 finished with value: 0.9824133085570971 and parameters: {'n_estimators': 469, 'max_depth': 12, 'min_samples_split': 8, 'min_samples_leaf': 2}. Best is trial 22 with value: 0.9824391417361019.\n",
      "[I 2025-04-03 15:44:31,571] Trial 26 finished with value: 0.9821652527754244 and parameters: {'n_estimators': 477, 'max_depth': 8, 'min_samples_split': 7, 'min_samples_leaf': 3}. Best is trial 22 with value: 0.9824391417361019.\n",
      "[I 2025-04-03 15:44:34,891] Trial 27 finished with value: 0.9824055005746302 and parameters: {'n_estimators': 418, 'max_depth': 12, 'min_samples_split': 9, 'min_samples_leaf': 2}. Best is trial 22 with value: 0.9824391417361019.\n",
      "[I 2025-04-03 15:44:38,067] Trial 28 finished with value: 0.9824057552791281 and parameters: {'n_estimators': 403, 'max_depth': 6, 'min_samples_split': 6, 'min_samples_leaf': 2}. Best is trial 22 with value: 0.9824391417361019.\n",
      "[I 2025-04-03 15:44:41,634] Trial 29 finished with value: 0.9822780546154938 and parameters: {'n_estimators': 462, 'max_depth': 8, 'min_samples_split': 10, 'min_samples_leaf': 3}. Best is trial 22 with value: 0.9824391417361019.\n",
      "[I 2025-04-03 15:44:44,295] Trial 30 finished with value: 0.9818017293769211 and parameters: {'n_estimators': 331, 'max_depth': 10, 'min_samples_split': 8, 'min_samples_leaf': 5}. Best is trial 22 with value: 0.9824391417361019.\n",
      "[I 2025-04-03 15:44:47,468] Trial 31 finished with value: 0.9824040197718521 and parameters: {'n_estimators': 397, 'max_depth': 6, 'min_samples_split': 6, 'min_samples_leaf': 2}. Best is trial 22 with value: 0.9824391417361019.\n",
      "[I 2025-04-03 15:44:50,797] Trial 32 finished with value: 0.9824112514441711 and parameters: {'n_estimators': 430, 'max_depth': 6, 'min_samples_split': 5, 'min_samples_leaf': 2}. Best is trial 22 with value: 0.9824391417361019.\n",
      "[I 2025-04-03 15:44:54,691] Trial 33 finished with value: 0.9822714501449189 and parameters: {'n_estimators': 475, 'max_depth': 8, 'min_samples_split': 4, 'min_samples_leaf': 2}. Best is trial 22 with value: 0.9824391417361019.\n",
      "[I 2025-04-03 15:44:58,026] Trial 34 finished with value: 0.9822712809078972 and parameters: {'n_estimators': 430, 'max_depth': 6, 'min_samples_split': 2, 'min_samples_leaf': 3}. Best is trial 22 with value: 0.9824391417361019.\n",
      "[I 2025-04-03 15:45:02,056] Trial 35 finished with value: 0.9822924259690913 and parameters: {'n_estimators': 498, 'max_depth': 8, 'min_samples_split': 3, 'min_samples_leaf': 2}. Best is trial 22 with value: 0.9824391417361019.\n",
      "[I 2025-04-03 15:45:05,950] Trial 36 finished with value: 0.9822656969374747 and parameters: {'n_estimators': 468, 'max_depth': 10, 'min_samples_split': 5, 'min_samples_leaf': 1}. Best is trial 22 with value: 0.9824391417361019.\n",
      "[I 2025-04-03 15:45:09,364] Trial 37 finished with value: 0.982381243856786 and parameters: {'n_estimators': 426, 'max_depth': 12, 'min_samples_split': 7, 'min_samples_leaf': 2}. Best is trial 22 with value: 0.9824391417361019.\n",
      "[I 2025-04-03 15:45:11,873] Trial 38 finished with value: 0.9821120930027306 and parameters: {'n_estimators': 271, 'max_depth': 14, 'min_samples_split': 5, 'min_samples_leaf': 1}. Best is trial 22 with value: 0.9824391417361019.\n",
      "[I 2025-04-03 15:45:14,913] Trial 39 finished with value: 0.982169896607964 and parameters: {'n_estimators': 361, 'max_depth': 18, 'min_samples_split': 4, 'min_samples_leaf': 2}. Best is trial 22 with value: 0.9824391417361019.\n",
      "[I 2025-04-03 15:45:18,397] Trial 40 finished with value: 0.982156444601093 and parameters: {'n_estimators': 445, 'max_depth': 7, 'min_samples_split': 6, 'min_samples_leaf': 3}. Best is trial 22 with value: 0.9824391417361019.\n",
      "[I 2025-04-03 15:45:21,676] Trial 41 finished with value: 0.9824074658655776 and parameters: {'n_estimators': 405, 'max_depth': 6, 'min_samples_split': 6, 'min_samples_leaf': 2}. Best is trial 22 with value: 0.9824391417361019.\n",
      "[I 2025-04-03 15:45:25,293] Trial 42 finished with value: 0.9818354104131438 and parameters: {'n_estimators': 478, 'max_depth': 5, 'min_samples_split': 5, 'min_samples_leaf': 2}. Best is trial 22 with value: 0.9824391417361019.\n",
      "[I 2025-04-03 15:45:28,570] Trial 43 finished with value: 0.9824392780496224 and parameters: {'n_estimators': 419, 'max_depth': 6, 'min_samples_split': 6, 'min_samples_leaf': 2}. Best is trial 43 with value: 0.9824392780496224.\n",
      "[I 2025-04-03 15:45:31,859] Trial 44 finished with value: 0.9823094097669761 and parameters: {'n_estimators': 385, 'max_depth': 9, 'min_samples_split': 7, 'min_samples_leaf': 1}. Best is trial 43 with value: 0.9824392780496224.\n",
      "[I 2025-04-03 15:45:35,318] Trial 45 finished with value: 0.9824534876694003 and parameters: {'n_estimators': 430, 'max_depth': 7, 'min_samples_split': 8, 'min_samples_leaf': 2}. Best is trial 45 with value: 0.9824534876694003.\n",
      "[I 2025-04-03 15:45:38,863] Trial 46 finished with value: 0.9823327385901162 and parameters: {'n_estimators': 447, 'max_depth': 10, 'min_samples_split': 8, 'min_samples_leaf': 1}. Best is trial 45 with value: 0.9824534876694003.\n",
      "[I 2025-04-03 15:45:42,588] Trial 47 finished with value: 0.9824208244675036 and parameters: {'n_estimators': 481, 'max_depth': 7, 'min_samples_split': 10, 'min_samples_leaf': 2}. Best is trial 45 with value: 0.9824534876694003.\n",
      "[I 2025-04-03 15:45:46,352] Trial 48 finished with value: 0.9824356975918579 and parameters: {'n_estimators': 491, 'max_depth': 7, 'min_samples_split': 10, 'min_samples_leaf': 2}. Best is trial 45 with value: 0.9824534876694003.\n",
      "[I 2025-04-03 15:45:50,260] Trial 49 finished with value: 0.9822998175711134 and parameters: {'n_estimators': 498, 'max_depth': 8, 'min_samples_split': 10, 'min_samples_leaf': 3}. Best is trial 45 with value: 0.9824534876694003.\n"
     ]
    },
    {
     "name": "stdout",
     "output_type": "stream",
     "text": [
      "Best Random Forest Hyperparameters: {'n_estimators': 430, 'max_depth': 7, 'min_samples_split': 8, 'min_samples_leaf': 2}\n"
     ]
    }
   ],
   "source": [
    "import optuna\n",
    "from sklearn.ensemble import RandomForestRegressor\n",
    "from sklearn.model_selection import cross_val_score\n",
    "\n",
    "# Define the objective function for Bayesian Optimization\n",
    "def objective(trial):\n",
    "    params = {\n",
    "        \"n_estimators\": trial.suggest_int(\"n_estimators\", 100, 500),\n",
    "        \"max_depth\": trial.suggest_int(\"max_depth\", 5, 20),\n",
    "        \"min_samples_split\": trial.suggest_int(\"min_samples_split\", 2, 10),\n",
    "        \"min_samples_leaf\": trial.suggest_int(\"min_samples_leaf\", 1, 5),\n",
    "    }\n",
    "    \n",
    "    model = RandomForestRegressor(**params, random_state=42, n_jobs=-1)\n",
    "    score = cross_val_score(model, X_train, y_train_reg, cv=3, scoring=\"r2\").mean()\n",
    "    return score\n",
    "\n",
    "# Run Bayesian Optimization\n",
    "study = optuna.create_study(direction=\"maximize\")\n",
    "study.optimize(objective, n_trials=50)\n",
    "\n",
    "# Get the best parameters\n",
    "best_rf_params = study.best_params\n",
    "print(\"Best Random Forest Hyperparameters:\", best_rf_params)"
   ]
  },
  {
   "cell_type": "code",
   "execution_count": 75,
   "metadata": {},
   "outputs": [
    {
     "name": "stdout",
     "output_type": "stream",
     "text": [
      "Optimized Random Forest R² Score: 0.9870\n"
     ]
    }
   ],
   "source": [
    "# Train Random Forest with optimized parameters\n",
    "optimized_rf = RandomForestRegressor(\n",
    "    n_estimators=430,\n",
    "    max_depth=7,\n",
    "    min_samples_split=8,\n",
    "    min_samples_leaf=2,\n",
    "    random_state=42,\n",
    "    n_jobs=-1\n",
    ")\n",
    "\n",
    "# Fit the model\n",
    "optimized_rf.fit(X_train, y_train_reg)\n",
    "\n",
    "# Predict on test data\n",
    "y_pred_rf = optimized_rf.predict(X_test)\n",
    "\n",
    "# Evaluate performance\n",
    "r2_rf = r2_score(y_test_reg, y_pred_rf)\n",
    "print(f\"Optimized Random Forest R² Score: {r2_rf:.4f}\")"
   ]
  },
  {
   "cell_type": "code",
   "execution_count": 13,
   "metadata": {},
   "outputs": [
    {
     "name": "stdout",
     "output_type": "stream",
     "text": [
      "Stacked Model R² Score: 0.9883\n",
      "Blended Model R² Score: 0.9881\n"
     ]
    }
   ],
   "source": [
    "from sklearn.ensemble import RandomForestRegressor, StackingRegressor\n",
    "from sklearn.linear_model import Ridge\n",
    "\n",
    "# Define base models with optimized hyperparameters\n",
    "xgb_model = xgb.XGBRegressor(\n",
    "    objective=\"reg:squarederror\",\n",
    "    max_depth=3,\n",
    "    learning_rate=0.02701144248087639,\n",
    "    n_estimators=248,\n",
    "    subsample=0.8243875262539391,\n",
    "    colsample_bytree=0.8035699318005508,\n",
    "    gamma=0.055618500593052234\n",
    ")\n",
    "\n",
    "rf_model = RandomForestRegressor(\n",
    "    n_estimators=430,\n",
    "    max_depth=7,\n",
    "    min_samples_split=8,\n",
    "    min_samples_leaf=2,\n",
    "    random_state=42,\n",
    "    n_jobs=-1\n",
    ")\n",
    "\n",
    "# Define stacking model with a Ridge Regressor as meta-learner\n",
    "stacking_model = StackingRegressor(\n",
    "    estimators=[\n",
    "        ('xgb', xgb_model),\n",
    "        ('rf', rf_model)\n",
    "    ],\n",
    "    final_estimator=Ridge(alpha=1.0)  # Ridge to avoid overfitting\n",
    ")\n",
    "\n",
    "# Train Stacking Model\n",
    "stacking_model.fit(X_train, y_train_reg)\n",
    "\n",
    "# Predict and Evaluate\n",
    "y_pred_stack = stacking_model.predict(X_test)\n",
    "r2_stack = r2_score(y_test_reg, y_pred_stack)\n",
    "\n",
    "print(f\"Stacked Model R² Score: {r2_stack:.4f}\")\n",
    "\n",
    "xgb_model.fit(X_train, y_train_reg)\n",
    "rf_model.fit(X_train, y_train_reg)\n",
    "\n",
    "\n",
    "y_pred_final = (0.7 * xgb_model.predict(X_test) + \n",
    "                0.3 * rf_model.predict(X_test))\n",
    "print(f\"Blended Model R² Score: {r2_score(y_test_reg, y_pred_final):.4f}\")\n"
   ]
  },
  {
   "cell_type": "code",
   "execution_count": 78,
   "metadata": {},
   "outputs": [
    {
     "name": "stderr",
     "output_type": "stream",
     "text": [
      "ExactExplainer explainer: 801it [03:33,  3.75it/s]                         \n"
     ]
    },
    {
     "data": {
      "image/png": "[encoded data removed]",
      "text/plain": [
       "<Figure size 800x350 with 2 Axes>"
      ]
     },
     "metadata": {},
     "output_type": "display_data"
    }
   ],
   "source": [
    "import shap\n",
    "\n",
    "# Explain Stacking Model Predictions using SHAP\n",
    "explainer = shap.Explainer(stacking_model.predict, X_train)\n",
    "shap_values = explainer(X_train)\n",
    "\n",
    "# Plot SHAP Summary\n",
    "shap.summary_plot(shap_values, X_train)"
   ]
  },
  {
   "cell_type": "markdown",
   "metadata": {},
   "source": [
    "7. Apply XGBoost Classifier & Evaluate it"
   ]
  },
  {
   "cell_type": "code",
   "execution_count": 8,
   "metadata": {},
   "outputs": [
    {
     "name": "stderr",
     "output_type": "stream",
     "text": [
      "[I 2025-04-06 19:27:56,800] A new study created in memory with name: no-name-2eec3fe8-696b-48d3-b7c1-90765e433792\n",
      "[I 2025-04-06 19:27:56,894] Trial 0 finished with value: 0.96 and parameters: {'max_depth': 10, 'learning_rate': 0.20095558524589147, 'subsample': 0.925343023040446, 'colsample_bytree': 0.8120868797466649, 'gamma': 4.520123320390144, 'reg_alpha': 3.062531391889136, 'reg_lambda': 4.429315262124895}. Best is trial 0 with value: 0.96.\n",
      "[I 2025-04-06 19:27:56,970] Trial 1 finished with value: 0.96 and parameters: {'max_depth': 6, 'learning_rate': 0.034234730774000084, 'subsample': 0.9104092513675732, 'colsample_bytree': 0.697409623421414, 'gamma': 0.24446805873627964, 'reg_alpha': 4.570438924329963, 'reg_lambda': 3.041519189332518}. Best is trial 0 with value: 0.96.\n",
      "[I 2025-04-06 19:27:57,051] Trial 2 finished with value: 0.96 and parameters: {'max_depth': 6, 'learning_rate': 0.025933397878626335, 'subsample': 0.7718628094888453, 'colsample_bytree': 0.8873185425082504, 'gamma': 3.7642937083421875, 'reg_alpha': 3.5888368394362087, 'reg_lambda': 1.078122321581552}. Best is trial 0 with value: 0.96.\n",
      "[I 2025-04-06 19:27:57,113] Trial 3 finished with value: 0.96 and parameters: {'max_depth': 3, 'learning_rate': 0.14910580378547317, 'subsample': 0.8832648907129055, 'colsample_bytree': 0.7178664046787401, 'gamma': 4.233692194557623, 'reg_alpha': 4.500506021564586, 'reg_lambda': 2.105588528146188}. Best is trial 0 with value: 0.96.\n",
      "[I 2025-04-06 19:27:57,187] Trial 4 finished with value: 0.96 and parameters: {'max_depth': 5, 'learning_rate': 0.03236468846968745, 'subsample': 0.7671410430407218, 'colsample_bytree': 0.8000580479545529, 'gamma': 3.910210643998088, 'reg_alpha': 2.6338371765232926, 'reg_lambda': 2.573186889072032}. Best is trial 0 with value: 0.96.\n",
      "[I 2025-04-06 19:27:57,271] Trial 5 finished with value: 0.96 and parameters: {'max_depth': 5, 'learning_rate': 0.010343259180991595, 'subsample': 0.6897449161847524, 'colsample_bytree': 0.6892885197773018, 'gamma': 2.881578727476381, 'reg_alpha': 0.8960656149777113, 'reg_lambda': 0.641358060949816}. Best is trial 0 with value: 0.96.\n",
      "[I 2025-04-06 19:27:57,413] Trial 6 finished with value: 0.96 and parameters: {'max_depth': 10, 'learning_rate': 0.2773153024808952, 'subsample': 0.8011132270988276, 'colsample_bytree': 0.7263081788751906, 'gamma': 4.519395257139671, 'reg_alpha': 0.35595832109549363, 'reg_lambda': 0.3215617289947187}. Best is trial 0 with value: 0.96.\n",
      "[I 2025-04-06 19:27:57,636] Trial 7 finished with value: 0.96 and parameters: {'max_depth': 9, 'learning_rate': 0.19134395609431676, 'subsample': 0.7345696863283118, 'colsample_bytree': 0.9265781986557843, 'gamma': 2.211334891207793, 'reg_alpha': 4.998480696080391, 'reg_lambda': 3.027904937883288}. Best is trial 0 with value: 0.96.\n",
      "[I 2025-04-06 19:27:57,714] Trial 8 finished with value: 0.96 and parameters: {'max_depth': 7, 'learning_rate': 0.013484013955915945, 'subsample': 0.87600306768085, 'colsample_bytree': 0.8351018568019846, 'gamma': 4.849780751201662, 'reg_alpha': 0.1707918257065416, 'reg_lambda': 0.9307224958527222}. Best is trial 0 with value: 0.96.\n",
      "[I 2025-04-06 19:27:57,840] Trial 9 finished with value: 0.965 and parameters: {'max_depth': 10, 'learning_rate': 0.01819622403070504, 'subsample': 0.719736648988739, 'colsample_bytree': 0.9998552818159363, 'gamma': 4.378735029866761, 'reg_alpha': 0.0729515136503911, 'reg_lambda': 1.0065409264347664}. Best is trial 9 with value: 0.965.\n",
      "[I 2025-04-06 19:27:58,001] Trial 10 finished with value: 0.96 and parameters: {'max_depth': 8, 'learning_rate': 0.07311745389764297, 'subsample': 0.6176298529380643, 'colsample_bytree': 0.9899073243637859, 'gamma': 1.7628185018597708, 'reg_alpha': 1.4914639117678403, 'reg_lambda': 1.636896765216565}. Best is trial 9 with value: 0.965.\n",
      "[I 2025-04-06 19:27:58,139] Trial 11 finished with value: 0.96 and parameters: {'max_depth': 10, 'learning_rate': 0.08026137382669676, 'subsample': 0.9877573876063491, 'colsample_bytree': 0.985740906665423, 'gamma': 3.6200076301890975, 'reg_alpha': 2.3440897522973434, 'reg_lambda': 4.966111686289896}. Best is trial 9 with value: 0.965.\n",
      "[I 2025-04-06 19:27:58,264] Trial 12 finished with value: 0.955 and parameters: {'max_depth': 9, 'learning_rate': 0.01873351928366322, 'subsample': 0.6756702523411472, 'colsample_bytree': 0.6233995564279425, 'gamma': 3.1453675318819654, 'reg_alpha': 3.0057979538204314, 'reg_lambda': 4.556533480122449}. Best is trial 9 with value: 0.965.\n",
      "[I 2025-04-06 19:27:58,387] Trial 13 finished with value: 0.96 and parameters: {'max_depth': 8, 'learning_rate': 0.1065149635689168, 'subsample': 0.9979438841891157, 'colsample_bytree': 0.8664155654831341, 'gamma': 4.9352144981536945, 'reg_alpha': 1.841351472198526, 'reg_lambda': 4.012881627523861}. Best is trial 9 with value: 0.965.\n",
      "[I 2025-04-06 19:27:58,617] Trial 14 finished with value: 0.96 and parameters: {'max_depth': 10, 'learning_rate': 0.0510754623445464, 'subsample': 0.8376658408888166, 'colsample_bytree': 0.9199355915754944, 'gamma': 1.5624445368638171, 'reg_alpha': 3.492899029647777, 'reg_lambda': 3.67654526779595}. Best is trial 9 with value: 0.965.\n",
      "[I 2025-04-06 19:27:58,748] Trial 15 finished with value: 0.96 and parameters: {'max_depth': 9, 'learning_rate': 0.05633419436116551, 'subsample': 0.6035372753863649, 'colsample_bytree': 0.7990252426839201, 'gamma': 3.247809666386824, 'reg_alpha': 1.4138762268467535, 'reg_lambda': 1.5507485929876776}. Best is trial 9 with value: 0.965.\n",
      "[I 2025-04-06 19:27:58,870] Trial 16 finished with value: 0.96 and parameters: {'max_depth': 8, 'learning_rate': 0.27244629944530635, 'subsample': 0.947567416769881, 'colsample_bytree': 0.6133974897826503, 'gamma': 0.38396423532172586, 'reg_alpha': 3.6478446704962915, 'reg_lambda': 0.08321659333604803}. Best is trial 9 with value: 0.965.\n",
      "[I 2025-04-06 19:27:58,999] Trial 17 finished with value: 0.96 and parameters: {'max_depth': 10, 'learning_rate': 0.018615846577515856, 'subsample': 0.827410262637446, 'colsample_bytree': 0.7830023769565837, 'gamma': 4.259890028313604, 'reg_alpha': 1.9880640380964034, 'reg_lambda': 3.849634663180641}. Best is trial 9 with value: 0.965.\n",
      "[I 2025-04-06 19:27:59,125] Trial 18 finished with value: 0.96 and parameters: {'max_depth': 3, 'learning_rate': 0.13046405324930535, 'subsample': 0.6997387554195935, 'colsample_bytree': 0.9481748132605904, 'gamma': 2.49351833764682, 'reg_alpha': 0.8609078950250897, 'reg_lambda': 2.237918057575057}. Best is trial 9 with value: 0.965.\n",
      "[I 2025-04-06 19:27:59,246] Trial 19 finished with value: 0.96 and parameters: {'max_depth': 7, 'learning_rate': 0.04627336229644564, 'subsample': 0.9361626448133479, 'colsample_bytree': 0.7521038077947437, 'gamma': 4.989177563328703, 'reg_alpha': 2.9175487051967335, 'reg_lambda': 3.170864115164014}. Best is trial 9 with value: 0.965.\n",
      "[I 2025-04-06 19:27:59,382] Trial 20 finished with value: 0.96 and parameters: {'max_depth': 9, 'learning_rate': 0.18158442179133946, 'subsample': 0.7395970289666925, 'colsample_bytree': 0.8517530411840991, 'gamma': 1.0384109031732525, 'reg_alpha': 3.955839452690597, 'reg_lambda': 1.672908540047528}. Best is trial 9 with value: 0.965.\n",
      "[I 2025-04-06 19:27:59,538] Trial 21 finished with value: 0.96 and parameters: {'max_depth': 5, 'learning_rate': 0.03261140564051754, 'subsample': 0.904257013045766, 'colsample_bytree': 0.6684952340026138, 'gamma': 0.5409088360549734, 'reg_alpha': 4.343972669075186, 'reg_lambda': 3.1285339926967066}. Best is trial 9 with value: 0.965.\n",
      "[I 2025-04-06 19:27:59,673] Trial 22 finished with value: 0.96 and parameters: {'max_depth': 6, 'learning_rate': 0.021900417107015874, 'subsample': 0.9415567920751985, 'colsample_bytree': 0.667919306043835, 'gamma': 1.7084420363981787, 'reg_alpha': 4.9754531758058524, 'reg_lambda': 4.4004428012880705}. Best is trial 9 with value: 0.965.\n",
      "[I 2025-04-06 19:27:59,818] Trial 23 finished with value: 0.96 and parameters: {'max_depth': 7, 'learning_rate': 0.03631597742838202, 'subsample': 0.8541622401560818, 'colsample_bytree': 0.7520262981099399, 'gamma': 0.02852147346821826, 'reg_alpha': 3.148748447151593, 'reg_lambda': 2.8132035450143005}. Best is trial 9 with value: 0.965.\n",
      "[I 2025-04-06 19:27:59,954] Trial 24 finished with value: 0.96 and parameters: {'max_depth': 4, 'learning_rate': 0.013114884387795145, 'subsample': 0.913838774936482, 'colsample_bytree': 0.6383846966181399, 'gamma': 4.386419456415381, 'reg_alpha': 4.45024101761297, 'reg_lambda': 3.570178164946193}. Best is trial 9 with value: 0.965.\n",
      "[I 2025-04-06 19:28:00,112] Trial 25 finished with value: 0.96 and parameters: {'max_depth': 6, 'learning_rate': 0.025352829975199224, 'subsample': 0.6518328779946873, 'colsample_bytree': 0.8920282570852716, 'gamma': 1.1054844028220083, 'reg_alpha': 4.047008265584277, 'reg_lambda': 4.941125219447273}. Best is trial 9 with value: 0.965.\n",
      "[I 2025-04-06 19:28:00,237] Trial 26 finished with value: 0.96 and parameters: {'max_depth': 4, 'learning_rate': 0.08539014484922534, 'subsample': 0.9614766136117168, 'colsample_bytree': 0.8214558783838334, 'gamma': 3.405103708040093, 'reg_alpha': 2.397153984043633, 'reg_lambda': 4.2873623676265815}. Best is trial 9 with value: 0.965.\n",
      "[I 2025-04-06 19:28:00,363] Trial 27 finished with value: 0.96 and parameters: {'max_depth': 8, 'learning_rate': 0.037957306542794965, 'subsample': 0.807956419085365, 'colsample_bytree': 0.7652441217973676, 'gamma': 2.689416269644634, 'reg_alpha': 1.9143442709280534, 'reg_lambda': 3.4205424466708556}. Best is trial 9 with value: 0.965.\n",
      "[I 2025-04-06 19:28:00,486] Trial 28 finished with value: 0.96 and parameters: {'max_depth': 9, 'learning_rate': 0.014964829651961586, 'subsample': 0.867064138843013, 'colsample_bytree': 0.7051031150115993, 'gamma': 4.034651575744118, 'reg_alpha': 1.1626259030505304, 'reg_lambda': 2.075118514398962}. Best is trial 9 with value: 0.965.\n",
      "[I 2025-04-06 19:28:00,620] Trial 29 finished with value: 0.96 and parameters: {'max_depth': 7, 'learning_rate': 0.025093030409541386, 'subsample': 0.7690374488081961, 'colsample_bytree': 0.8901490313886206, 'gamma': 3.707973580745044, 'reg_alpha': 3.4199477081040994, 'reg_lambda': 2.534758033042273}. Best is trial 9 with value: 0.965.\n",
      "[I 2025-04-06 19:28:00,756] Trial 30 finished with value: 0.96 and parameters: {'max_depth': 10, 'learning_rate': 0.010490196026631439, 'subsample': 0.7269336651840561, 'colsample_bytree': 0.9615469125462934, 'gamma': 2.1830791666371017, 'reg_alpha': 0.6046784520897495, 'reg_lambda': 1.3110388593680384}. Best is trial 9 with value: 0.965.\n",
      "[I 2025-04-06 19:28:00,889] Trial 31 finished with value: 0.96 and parameters: {'max_depth': 6, 'learning_rate': 0.028984387598556573, 'subsample': 0.7741021189789661, 'colsample_bytree': 0.876644092680664, 'gamma': 4.619594488356233, 'reg_alpha': 3.90995693911373, 'reg_lambda': 0.98229380693773}. Best is trial 9 with value: 0.965.\n",
      "[I 2025-04-06 19:28:01,150] Trial 32 finished with value: 0.96 and parameters: {'max_depth': 6, 'learning_rate': 0.019004766738902366, 'subsample': 0.8929369546676182, 'colsample_bytree': 0.9270827416440119, 'gamma': 3.9741471081906643, 'reg_alpha': 4.587068678514471, 'reg_lambda': 2.028570418481393}. Best is trial 9 with value: 0.965.\n",
      "[I 2025-04-06 19:28:01,309] Trial 33 finished with value: 0.96 and parameters: {'max_depth': 5, 'learning_rate': 0.04034182974983445, 'subsample': 0.7802013315445651, 'colsample_bytree': 0.8258646608497016, 'gamma': 4.143027938638967, 'reg_alpha': 2.6397520099183613, 'reg_lambda': 0.6100744867899861}. Best is trial 9 with value: 0.965.\n",
      "[I 2025-04-06 19:28:01,434] Trial 34 finished with value: 0.96 and parameters: {'max_depth': 4, 'learning_rate': 0.06648503690901669, 'subsample': 0.7439862776695194, 'colsample_bytree': 0.7243901465724584, 'gamma': 4.546572343979355, 'reg_alpha': 3.358040810262056, 'reg_lambda': 1.1461359079426205}. Best is trial 9 with value: 0.965.\n",
      "[I 2025-04-06 19:28:01,605] Trial 35 finished with value: 0.96 and parameters: {'max_depth': 5, 'learning_rate': 0.024681559732975117, 'subsample': 0.7052606620090139, 'colsample_bytree': 0.8068563072702736, 'gamma': 3.584307610881118, 'reg_alpha': 4.691900276456777, 'reg_lambda': 0.5655562198623021}. Best is trial 9 with value: 0.965.\n",
      "[I 2025-04-06 19:28:01,832] Trial 36 finished with value: 0.96 and parameters: {'max_depth': 6, 'learning_rate': 0.016404707884720107, 'subsample': 0.8226967141580916, 'colsample_bytree': 0.8523474519811133, 'gamma': 3.841889292740398, 'reg_alpha': 3.710248384526301, 'reg_lambda': 0.06493425297519795}. Best is trial 9 with value: 0.965.\n",
      "[I 2025-04-06 19:28:01,971] Trial 37 finished with value: 0.96 and parameters: {'max_depth': 7, 'learning_rate': 0.028996924452771314, 'subsample': 0.6619032971730398, 'colsample_bytree': 0.9062399577006612, 'gamma': 4.659275302820201, 'reg_alpha': 4.087896111760936, 'reg_lambda': 2.7772175438751407}. Best is trial 9 with value: 0.965.\n",
      "[I 2025-04-06 19:28:02,110] Trial 38 finished with value: 0.96 and parameters: {'max_depth': 10, 'learning_rate': 0.0452387290147629, 'subsample': 0.9720244032691324, 'colsample_bytree': 0.9756402755705271, 'gamma': 3.071195795142084, 'reg_alpha': 2.763768753483763, 'reg_lambda': 0.9033256519740578}. Best is trial 9 with value: 0.965.\n",
      "[I 2025-04-06 19:28:02,333] Trial 39 finished with value: 0.96 and parameters: {'max_depth': 8, 'learning_rate': 0.06091338276860385, 'subsample': 0.9236993768126625, 'colsample_bytree': 0.9969423625108754, 'gamma': 4.255224939931722, 'reg_alpha': 3.330385024995463, 'reg_lambda': 1.8445379326738305}. Best is trial 9 with value: 0.965.\n",
      "[I 2025-04-06 19:28:02,492] Trial 40 finished with value: 0.96 and parameters: {'max_depth': 9, 'learning_rate': 0.011976625121441471, 'subsample': 0.7913518132266478, 'colsample_bytree': 0.9393731161655497, 'gamma': 2.8026912530264845, 'reg_alpha': 0.0065114829748870034, 'reg_lambda': 4.706366911300842}. Best is trial 9 with value: 0.965.\n",
      "[I 2025-04-06 19:28:02,617] Trial 41 finished with value: 0.96 and parameters: {'max_depth': 3, 'learning_rate': 0.1943405699411885, 'subsample': 0.8828786422505929, 'colsample_bytree': 0.6963832449929992, 'gamma': 4.812931259242626, 'reg_alpha': 4.257126844104022, 'reg_lambda': 1.3412068345702426}. Best is trial 9 with value: 0.965.\n",
      "[I 2025-04-06 19:28:02,740] Trial 42 finished with value: 0.96 and parameters: {'max_depth': 4, 'learning_rate': 0.14764785809156358, 'subsample': 0.8544634674760939, 'colsample_bytree': 0.7329079700403616, 'gamma': 4.424033334332592, 'reg_alpha': 4.8114574679332875, 'reg_lambda': 2.363568590668232}. Best is trial 9 with value: 0.965.\n",
      "[I 2025-04-06 19:28:02,866] Trial 43 finished with value: 0.96 and parameters: {'max_depth': 5, 'learning_rate': 0.09753350113552264, 'subsample': 0.8985795583227074, 'colsample_bytree': 0.6626867180772354, 'gamma': 3.844039551211796, 'reg_alpha': 3.73062629399905, 'reg_lambda': 0.38527243273116607}. Best is trial 9 with value: 0.965.\n",
      "[I 2025-04-06 19:28:03,082] Trial 44 finished with value: 0.96 and parameters: {'max_depth': 3, 'learning_rate': 0.26390983761137915, 'subsample': 0.9205811974782533, 'colsample_bytree': 0.7854838713356348, 'gamma': 3.511292438944622, 'reg_alpha': 2.2416847097988466, 'reg_lambda': 0.8408826776948699}. Best is trial 9 with value: 0.965.\n",
      "[I 2025-04-06 19:28:03,222] Trial 45 finished with value: 0.96 and parameters: {'max_depth': 10, 'learning_rate': 0.24001486698582375, 'subsample': 0.7531726680686649, 'colsample_bytree': 0.7162344432644441, 'gamma': 2.2256135164887043, 'reg_alpha': 3.076925045855405, 'reg_lambda': 1.398072721088031}. Best is trial 9 with value: 0.965.\n",
      "[I 2025-04-06 19:28:03,352] Trial 46 finished with value: 0.96 and parameters: {'max_depth': 8, 'learning_rate': 0.12319537279573758, 'subsample': 0.9665748005460423, 'colsample_bytree': 0.6405464838832979, 'gamma': 4.104708873567322, 'reg_alpha': 4.344717188659988, 'reg_lambda': 4.161592171456284}. Best is trial 9 with value: 0.965.\n",
      "[I 2025-04-06 19:28:03,474] Trial 47 finished with value: 0.96 and parameters: {'max_depth': 9, 'learning_rate': 0.22119975798354652, 'subsample': 0.7190027147887884, 'colsample_bytree': 0.6007402162898378, 'gamma': 3.2196495776479823, 'reg_alpha': 4.5589887227975385, 'reg_lambda': 1.7860670047529408}. Best is trial 9 with value: 0.965.\n",
      "[I 2025-04-06 19:28:03,610] Trial 48 finished with value: 0.96 and parameters: {'max_depth': 7, 'learning_rate': 0.019697234761496134, 'subsample': 0.8473284469808857, 'colsample_bytree': 0.6884107863784337, 'gamma': 4.746337025473446, 'reg_alpha': 4.840494605659893, 'reg_lambda': 2.7353506173950235}. Best is trial 9 with value: 0.965.\n",
      "[I 2025-04-06 19:28:03,746] Trial 49 finished with value: 0.96 and parameters: {'max_depth': 5, 'learning_rate': 0.15994006578179032, 'subsample': 0.8747807360509297, 'colsample_bytree': 0.7360141333476686, 'gamma': 1.324661974900725, 'reg_alpha': 2.144357331616694, 'reg_lambda': 1.141284426668204}. Best is trial 9 with value: 0.965.\n"
     ]
    },
    {
     "name": "stdout",
     "output_type": "stream",
     "text": [
      "Best hyperparameters: {'max_depth': 10, 'learning_rate': 0.01819622403070504, 'subsample': 0.719736648988739, 'colsample_bytree': 0.9998552818159363, 'gamma': 4.378735029866761, 'reg_alpha': 0.0729515136503911, 'reg_lambda': 1.0065409264347664}\n",
      "Best accuracy: 0.965\n"
     ]
    }
   ],
   "source": [
    "import optuna\n",
    "def objective(trial):\n",
    "    params = {\n",
    "        \"objective\": \"binary:logistic\",\n",
    "        \"eval_metric\": \"logloss\",\n",
    "        \"use_label_encoder\": False,\n",
    "        \"n_estimators\": 100,\n",
    "        \"max_depth\": trial.suggest_int(\"max_depth\", 3, 10),\n",
    "        \"learning_rate\": trial.suggest_float(\"learning_rate\", 0.01, 0.3, log=True),\n",
    "        \"subsample\": trial.suggest_float(\"subsample\", 0.6, 1.0),\n",
    "        \"colsample_bytree\": trial.suggest_float(\"colsample_bytree\", 0.6, 1.0),\n",
    "        \"gamma\": trial.suggest_float(\"gamma\", 0, 5),\n",
    "        \"reg_alpha\": trial.suggest_float(\"reg_alpha\", 0, 5),\n",
    "        \"reg_lambda\": trial.suggest_float(\"reg_lambda\", 0, 5),\n",
    "    }\n",
    "\n",
    "    model = xgb.XGBClassifier(**params)\n",
    "    model.fit(X_train_cls, y_train_cls)\n",
    "    preds = model.predict(X_test_cls)\n",
    "    acc = accuracy_score(y_test_cls, preds)\n",
    "    return acc\n",
    "\n",
    "# Run Optuna optimization\n",
    "study = optuna.create_study(direction=\"maximize\")\n",
    "study.optimize(objective, n_trials=50)\n",
    "\n",
    "# Print best results\n",
    "print(\"Best hyperparameters:\", study.best_params)\n",
    "print(\"Best accuracy:\", study.best_value)"
   ]
  },
  {
   "cell_type": "code",
   "execution_count": 9,
   "metadata": {},
   "outputs": [
    {
     "data": {
      "text/html": [
       "<style>#sk-container-id-1 {color: black;background-color: white;}#sk-container-id-1 pre{padding: 0;}#sk-container-id-1 div.sk-toggleable {background-color: white;}#sk-container-id-1 label.sk-toggleable__label {cursor: pointer;display: block;width: 100%;margin-bottom: 0;padding: 0.3em;box-sizing: border-box;text-align: center;}#sk-container-id-1 label.sk-toggleable__label-arrow:before {content: \"▸\";float: left;margin-right: 0.25em;color: #696969;}#sk-container-id-1 label.sk-toggleable__label-arrow:hover:before {color: black;}#sk-container-id-1 div.sk-estimator:hover label.sk-toggleable__label-arrow:before {color: black;}#sk-container-id-1 div.sk-toggleable__content {max-height: 0;max-width: 0;overflow: hidden;text-align: left;background-color: #f0f8ff;}#sk-container-id-1 div.sk-toggleable__content pre {margin: 0.2em;color: black;border-radius: 0.25em;background-color: #f0f8ff;}#sk-container-id-1 input.sk-toggleable__control:checked~div.sk-toggleable__content {max-height: 200px;max-width: 100%;overflow: auto;}#sk-container-id-1 input.sk-toggleable__control:checked~label.sk-toggleable__label-arrow:before {content: \"▾\";}#sk-container-id-1 div.sk-estimator input.sk-toggleable__control:checked~label.sk-toggleable__label {background-color: #d4ebff;}#sk-container-id-1 div.sk-label input.sk-toggleable__control:checked~label.sk-toggleable__label {background-color: #d4ebff;}#sk-container-id-1 input.sk-hidden--visually {border: 0;clip: rect(1px 1px 1px 1px);clip: rect(1px, 1px, 1px, 1px);height: 1px;margin: -1px;overflow: hidden;padding: 0;position: absolute;width: 1px;}#sk-container-id-1 div.sk-estimator {font-family: monospace;background-color: #f0f8ff;border: 1px dotted black;border-radius: 0.25em;box-sizing: border-box;margin-bottom: 0.5em;}#sk-container-id-1 div.sk-estimator:hover {background-color: #d4ebff;}#sk-container-id-1 div.sk-parallel-item::after {content: \"\";width: 100%;border-bottom: 1px solid gray;flex-grow: 1;}#sk-container-id-1 div.sk-label:hover label.sk-toggleable__label {background-color: #d4ebff;}#sk-container-id-1 div.sk-serial::before {content: \"\";position: absolute;border-left: 1px solid gray;box-sizing: border-box;top: 0;bottom: 0;left: 50%;z-index: 0;}#sk-container-id-1 div.sk-serial {display: flex;flex-direction: column;align-items: center;background-color: white;padding-right: 0.2em;padding-left: 0.2em;position: relative;}#sk-container-id-1 div.sk-item {position: relative;z-index: 1;}#sk-container-id-1 div.sk-parallel {display: flex;align-items: stretch;justify-content: center;background-color: white;position: relative;}#sk-container-id-1 div.sk-item::before, #sk-container-id-1 div.sk-parallel-item::before {content: \"\";position: absolute;border-left: 1px solid gray;box-sizing: border-box;top: 0;bottom: 0;left: 50%;z-index: -1;}#sk-container-id-1 div.sk-parallel-item {display: flex;flex-direction: column;z-index: 1;position: relative;background-color: white;}#sk-container-id-1 div.sk-parallel-item:first-child::after {align-self: flex-end;width: 50%;}#sk-container-id-1 div.sk-parallel-item:last-child::after {align-self: flex-start;width: 50%;}#sk-container-id-1 div.sk-parallel-item:only-child::after {width: 0;}#sk-container-id-1 div.sk-dashed-wrapped {border: 1px dashed gray;margin: 0 0.4em 0.5em 0.4em;box-sizing: border-box;padding-bottom: 0.4em;background-color: white;}#sk-container-id-1 div.sk-label label {font-family: monospace;font-weight: bold;display: inline-block;line-height: 1.2em;}#sk-container-id-1 div.sk-label-container {text-align: center;}#sk-container-id-1 div.sk-container {/* jupyter's `normalize.less` sets `[hidden] { display: none; }` but bootstrap.min.css set `[hidden] { display: none !important; }` so we also need the `!important` here to be able to override the default hidden behavior on the sphinx rendered scikit-learn.org. See: https://github.com/scikit-learn/scikit-learn/issues/21755 */display: inline-block !important;position: relative;}#sk-container-id-1 div.sk-text-repr-fallback {display: none;}</style><div id=\"sk-container-id-1\" class=\"sk-top-container\"><div class=\"sk-text-repr-fallback\"><pre>XGBClassifier(base_score=None, booster=None, callbacks=None,\n",
       "              colsample_bylevel=None, colsample_bynode=None,\n",
       "              colsample_bytree=0.9998552818159363, device=None,\n",
       "              early_stopping_rounds=None, enable_categorical=False,\n",
       "              eval_metric=&#x27;logloss&#x27;, feature_types=None, feature_weights=None,\n",
       "              gamma=4.378735029866761, grow_policy=None, importance_type=None,\n",
       "              interaction_constraints=None, learning_rate=0.01819622403070504,\n",
       "              max_bin=None, max_cat_threshold=None, max_cat_to_onehot=None,\n",
       "              max_delta_step=None, max_depth=10, max_leaves=None,\n",
       "              min_child_weight=None, missing=nan, monotone_constraints=None,\n",
       "              multi_strategy=None, n_estimators=100, n_jobs=None,\n",
       "              num_parallel_tree=None, ...)</pre><b>In a Jupyter environment, please rerun this cell to show the HTML representation or trust the notebook. <br />On GitHub, the HTML representation is unable to render, please try loading this page with nbviewer.org.</b></div><div class=\"sk-container\" hidden><div class=\"sk-item\"><div class=\"sk-estimator sk-toggleable\"><input class=\"sk-toggleable__control sk-hidden--visually\" id=\"sk-estimator-id-1\" type=\"checkbox\" checked><label for=\"sk-estimator-id-1\" class=\"sk-toggleable__label sk-toggleable__label-arrow\">XGBClassifier</label><div class=\"sk-toggleable__content\"><pre>XGBClassifier(base_score=None, booster=None, callbacks=None,\n",
       "              colsample_bylevel=None, colsample_bynode=None,\n",
       "              colsample_bytree=0.9998552818159363, device=None,\n",
       "              early_stopping_rounds=None, enable_categorical=False,\n",
       "              eval_metric=&#x27;logloss&#x27;, feature_types=None, feature_weights=None,\n",
       "              gamma=4.378735029866761, grow_policy=None, importance_type=None,\n",
       "              interaction_constraints=None, learning_rate=0.01819622403070504,\n",
       "              max_bin=None, max_cat_threshold=None, max_cat_to_onehot=None,\n",
       "              max_delta_step=None, max_depth=10, max_leaves=None,\n",
       "              min_child_weight=None, missing=nan, monotone_constraints=None,\n",
       "              multi_strategy=None, n_estimators=100, n_jobs=None,\n",
       "              num_parallel_tree=None, ...)</pre></div></div></div></div></div>"
      ],
      "text/plain": [
       "XGBClassifier(base_score=None, booster=None, callbacks=None,\n",
       "              colsample_bylevel=None, colsample_bynode=None,\n",
       "              colsample_bytree=0.9998552818159363, device=None,\n",
       "              early_stopping_rounds=None, enable_categorical=False,\n",
       "              eval_metric='logloss', feature_types=None, feature_weights=None,\n",
       "              gamma=4.378735029866761, grow_policy=None, importance_type=None,\n",
       "              interaction_constraints=None, learning_rate=0.01819622403070504,\n",
       "              max_bin=None, max_cat_threshold=None, max_cat_to_onehot=None,\n",
       "              max_delta_step=None, max_depth=10, max_leaves=None,\n",
       "              min_child_weight=None, missing=nan, monotone_constraints=None,\n",
       "              multi_strategy=None, n_estimators=100, n_jobs=None,\n",
       "              num_parallel_tree=None, ...)"
      ]
     },
     "execution_count": 9,
     "metadata": {},
     "output_type": "execute_result"
    }
   ],
   "source": [
    "# Train the final model with the best hyperparameters\n",
    "best_params = study.best_params\n",
    "best_params[\"objective\"] = \"binary:logistic\"\n",
    "best_params[\"eval_metric\"] = \"logloss\"\n",
    "best_params[\"use_label_encoder\"] = False\n",
    "best_params[\"n_estimators\"] = 100\n",
    "\n",
    "final_model = xgb.XGBClassifier(**best_params)\n",
    "final_model.fit(X_train_cls, y_train_cls)"
   ]
  },
  {
   "cell_type": "code",
   "execution_count": 10,
   "metadata": {},
   "outputs": [
    {
     "name": "stdout",
     "output_type": "stream",
     "text": [
      "Classification Report:\n",
      "              precision    recall  f1-score   support\n",
      "\n",
      "           0       0.96      0.98      0.97       130\n",
      "           1       0.97      0.93      0.95        70\n",
      "\n",
      "    accuracy                           0.96       200\n",
      "   macro avg       0.97      0.96      0.96       200\n",
      "weighted avg       0.97      0.96      0.96       200\n",
      "\n",
      "Classification Model Accuracy: 0.965\n"
     ]
    }
   ],
   "source": [
    "# Performance of XGBClassifier\n",
    "y_pred_cls = final_model.predict(X_test_cls)\n",
    "cls_accuracy = accuracy_score(y_test_cls, y_pred_cls)\n",
    "print(f\"Classification Report:\\n{classification_report(y_test_cls, y_pred_cls)}\")\n",
    "print(f\"Classification Model Accuracy: {cls_accuracy}\")"
   ]
  },
  {
   "cell_type": "markdown",
   "metadata": {},
   "source": [
    "8. Save both the models as pickle files"
   ]
  },
  {
   "cell_type": "code",
   "execution_count": 16,
   "metadata": {},
   "outputs": [
    {
     "data": {
      "text/plain": [
       "['reg.pkl']"
      ]
     },
     "execution_count": 16,
     "metadata": {},
     "output_type": "execute_result"
    }
   ],
   "source": [
    "# Saving model\n",
    "import joblib\n",
    "\n",
    "joblib.dump(xgb_model, 'reg.pkl')"
   ]
  },
  {
   "cell_type": "code",
   "execution_count": 15,
   "metadata": {},
   "outputs": [
    {
     "data": {
      "text/plain": [
       "['cls.pkl']"
      ]
     },
     "execution_count": 15,
     "metadata": {},
     "output_type": "execute_result"
    }
   ],
   "source": [
    "joblib.dump(final_model, 'cls.pkl')"
   ]
  }
 ],
 "metadata": {
  "kernelspec": {
   "display_name": "Python 3",
   "language": "python",
   "name": "python3"
  },
  "language_info": {
   "codemirror_mode": {
    "name": "ipython",
    "version": 3
   },
   "file_extension": ".py",
   "mimetype": "text/x-python",
   "name": "python",
   "nbconvert_exporter": "python",
   "pygments_lexer": "ipython3",
   "version": "3.11.4"
  }
 },
 "nbformat": 4,
 "nbformat_minor": 2
}
